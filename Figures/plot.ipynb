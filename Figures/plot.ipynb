{
 "cells": [
  {
   "cell_type": "code",
   "execution_count": null,
   "metadata": {},
   "outputs": [],
   "source": [
    "import matplotlib.pyplot as plt\n",
    "from sklearn.metrics import roc_curve, auc\n",
    "\n",
    "\"\"\"\n",
    "This part of code should be used after the training and to generate the result plot.\n",
    "\n",
    "\"\"\"\n",
    "\n",
    "class_labels = ['Normal', 'Mild', 'Moderate', 'Severe']\n",
    "\n",
    "plt.figure()\n",
    "\n",
    "for i in range(all_outputs.shape[1]):\n",
    "    fpr, tpr, _ = roc_curve(all_labels[:, i], all_outputs[:, i])\n",
    "    roc_auc = auc(fpr, tpr)\n",
    "    plt.plot(fpr, tpr, lw=2, label=f'{class_labels[i]} ROC curve (AUROC = {roc_auc:.2f})')\n",
    "\n",
    "plt.plot([0, 1], [0, 1], color='navy', lw=2, linestyle='--')\n",
    "\n",
    "plt.xlim([0.0, 1.0])\n",
    "plt.ylim([0.0, 1.0])\n",
    "plt.xlabel('False Positive Rate', fontsize=16, labelpad=12)\n",
    "plt.ylabel('True Positive Rate', fontsize=16, labelpad=12)\n",
    "plt.title('ROC Curve', fontsize=18)\n",
    "plt.legend(loc=\"lower right\", fontsize=13)\n",
    "plt.tick_params(axis='both', which='major', labelsize=14)\n",
    "plt.show()\n"
   ]
  },
  {
   "cell_type": "code",
   "execution_count": null,
   "metadata": {},
   "outputs": [],
   "source": [
    "# Convert the multi-class labels and outputs to binary format\n",
    "all_labels_binary1 = all_labels.ravel()\n",
    "all_outputs_binary1 = all_outputs.ravel()\n",
    "\n",
    "# Calculate the false positive rate, true positive rate, and threshold\n",
    "fpr1, tpr1, _ = roc_curve(all_labels_binary1, all_outputs_binary1)\n",
    "\n",
    "# Calculate the AUC\n",
    "roc_auc1 = auc(fpr1, tpr1)"
   ]
  },
  {
   "cell_type": "code",
   "execution_count": null,
   "metadata": {},
   "outputs": [],
   "source": [
    "# Convert the multi-class labels and outputs to binary format\n",
    "all_labels_binary2 = all_labels.ravel()\n",
    "all_outputs_binary2 = all_outputs.ravel()\n",
    "\n",
    "# Calculate the false positive rate, true positive rate, and threshold\n",
    "fpr2, tpr2, _ = roc_curve(all_labels_binary2, all_outputs_binary2)\n",
    "\n",
    "# Calculate the AUC\n",
    "roc_auc2 = auc(fpr2, tpr2)\n",
    "\n",
    "# Plotting the ROC curve\n",
    "plt.figure()\n",
    "\n",
    "# Model 1 ROC curve\n",
    "plt.plot(fpr1, tpr1, color='red', lw=2, label=f'LRIA ROC curve (AUROC = {roc_auc1:.2f})')\n",
    "plt.fill_between(fpr1, tpr1, alpha=0.1, color='red')\n",
    "\n",
    "# Model 2 ROC curve\n",
    "plt.plot(fpr2, tpr2, color='skyblue', lw=2, label=f'Fractional ROC curve (AUROC = {roc_auc2:.2f})')\n",
    "plt.fill_between(fpr2, tpr2, alpha=0.1, color='skyblue')\n",
    "\n",
    "# Diagonal line\n",
    "plt.plot([0, 1], [0, 1], color='navy', lw=2, linestyle='--')\n",
    "\n",
    "# Plot settings\n",
    "plt.xlim([0.0, 1.0])\n",
    "plt.ylim([0.0, 1.0])\n",
    "plt.xlabel('False Positive Rate', fontsize=16, labelpad=12)\n",
    "plt.ylabel('True Positive Rate', fontsize=16, labelpad=12)\n",
    "plt.title('ROC Curve', fontsize=18)\n",
    "plt.legend(loc=\"lower right\", fontsize=13)\n",
    "plt.tick_params(axis='both', which='major', labelsize=14)\n",
    "plt.show()"
   ]
  }
 ],
 "metadata": {
  "kernelspec": {
   "display_name": "MMSA",
   "language": "python",
   "name": "python3"
  },
  "language_info": {
   "name": "python",
   "version": "3.11.3 (main, Apr 19 2023, 23:54:32) [GCC 11.2.0]"
  },
  "orig_nbformat": 4,
  "vscode": {
   "interpreter": {
    "hash": "2317310fb273c710267c74ef29c9b393507793e397ff0256299cc1e6ceae5a2d"
   }
  }
 },
 "nbformat": 4,
 "nbformat_minor": 2
}
